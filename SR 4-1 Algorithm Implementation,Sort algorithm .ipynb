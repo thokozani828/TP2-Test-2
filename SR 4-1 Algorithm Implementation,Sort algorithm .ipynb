{
 "cells": [
  {
   "cell_type": "code",
   "execution_count": 16,
   "id": "7fb68d03-537a-4bfa-9e5b-a6615c84c556",
   "metadata": {},
   "outputs": [
    {
     "name": "stdout",
     "output_type": "stream",
     "text": [
      "Column Names:  Index(['is_cluster', 'pocket_name', 'pocket_alias', 'ward_id',\n",
      "       'ward_councillor', 'avg_hhsize', 'area_ha', 'density_dwellings',\n",
      "       'structure_count', 'age_of_is', 'upgrade_category', 'temp_sanitation',\n",
      "       'toilets_full_flush', 'toilets_chemical', 'toilets_portable',\n",
      "       'toilets_container', 'toilets_other', 'toilets_total',\n",
      "       'ratio_toilets_dwellings', 'pocket_code', 'centroidx', 'centroidy'],\n",
      "      dtype='object')\n",
      "Sorted Column:  ['0 - 5 years', '0 - 5 years', '0 - 5 years', '0 - 5 years', '0 - 5 years', '0 - 5 years', '0 - 5 years', '0 - 5 years', '0 - 5 years', '0 - 5 years', '0 - 5 years', '0 - 5 years', '0 - 5 years', '0 - 5 years', '0 - 5 years', '0 - 5 years', '10 - 15 years', '10 - 15 years', '10 - 15 years', '10 - 15 years', '10 - 15 years', '10 - 15 years', '10 - 15 years', '10 - 15 years', '10 - 15 years', '10 - 15 years', '10 - 15 years', '10 - 15 years', '10 - 15 years', '10 - 15 years', '10 - 15 years', '10 - 15 years', '10 - 15 years', '10 - 15 years', '10 - 15 years', '10 - 15 years', '10 - 15 years', '10 - 15 years', '10 - 15 years', '10 - 15 years', '10 - 15 years', '10 - 15 years', '10 - 15 years', '10 - 15 years', '10 - 15 years', '10 - 15 years', '10 - 15 years', '10 - 15 years', '10 - 15 years', '10 - 15 years', '10 - 15 years', '10 - 15 years', '10 - 15 years', '10 - 15 years', '10 - 15 years', '10 - 15 years', '10 - 15 years', '10 - 15 years', '10 - 15 years', '10 - 15 years', '10 - 15 years', '10 - 15 years', '10 - 15 years', '10 - 15 years', '10 - 15 years', '10 - 15 years', '10 - 15 years', '10 - 15 years', '10 - 15 years', '10 - 15 years', '10 - 15 years', '10 - 15 years', '10 - 15 years', '10 - 15 years', '10 - 15 years', '10 - 15 years', '10 - 15 years', '10 - 15 years', '10 - 15 years', '10 - 15 years', '10 - 15 years', '10 - 15 years', '10 - 15 years', '10 - 15 years', '10 - 15 years', '10 - 15 years', '10 - 15 years', '10 - 15 years', '15 - 20 years', '15 - 20 years', '15 - 20 years', '15 - 20 years', '15 - 20 years', '15 - 20 years', '15 - 20 years', '15 - 20 years', '15 - 20 years', '15 - 20 years', '15 - 20 years', '15 - 20 years', '15 - 20 years', '15 - 20 years', '15 - 20 years', '15 - 20 years', '15 - 20 years', '15 - 20 years', '15 - 20 years', '15 - 20 years', '15 - 20 years', '15 - 20 years', '15 - 20 years', '15 - 20 years', '15 - 20 years', '15 - 20 years', '15 - 20 years', '15 - 20 years', '15 - 20 years', '15 - 20 years', '15 - 20 years', '15 - 20 years', '15 - 20 years', '15 - 20 years', '15 - 20 years', '15 - 20 years', '15 - 20 years', '15 - 20 years', '15 - 20 years', '15 - 20 years', '15 - 20 years', '15 - 20 years', '15 - 20 years', '15 - 20 years', '15 - 20 years', '15 - 20 years', '15 - 20 years', '15 - 20 years', '15 - 20 years', '15 - 20 years', '15 - 20 years', '15 - 20 years', '15 - 20 years', '15 - 20 years', '15 - 20 years', '15 - 20 years', '15 - 20 years', '15 - 20 years', '15 - 20 years', '15 - 20 years', '15 - 20 years', '15 - 20 years', '15 - 20 years', '15 - 20 years', '15 - 20 years', '15 - 20 years', '15 - 20 years', '15 - 20 years', '15 - 20 years', '15 - 20 years', '15 - 20 years', '15 - 20 years', '15 - 20 years', '15 - 20 years', '15 - 20 years', '15 - 20 years', '15 - 20 years', '15 - 20 years', '15 - 20 years', '15 - 20 years', '15 - 20 years', '15 - 20 years', '15 - 20 years', '15 - 20 years', '15 - 20 years', '15 - 20 years', '15 - 20 years', '15 - 20 years', '15 - 20 years', '15 - 20 years', '15 - 20 years', '15 - 20 years', '15 - 20 years', '15 - 20 years', '15 - 20 years', '15 - 20 years', '15 - 20 years', '15 - 20 years', '15 - 20 years', '15 - 20 years', '15 - 20 years', '15 - 20 years', '15 - 20 years', '15 - 20 years', '15 - 20 years', '15 - 20 years', '15 - 20 years', '15 - 20 years', '15 - 20 years', '15 - 20 years', '15 - 20 years', '15 - 20 years', '15 - 20 years', '15 - 20 years', '15 - 20 years', '15 - 20 years', '15 - 20 years', '15 - 20 years', '15 - 20 years', '15 - 20 years', '15 - 20 years', '15 - 20 years', '15 - 20 years', '15 - 20 years', '15 - 20 years', '15 - 20 years', '15 - 20 years', '15 - 20 years', '15 - 20 years', '15 - 20 years', '15 - 20 years', '15 - 20 years', '15 - 20 years', '15 - 20 years', '15 - 20 years', '15 - 20 years', '15 - 20 years', '15 - 20 years', '15 - 20 years', '15 - 20 years', '15 - 20 years', '15 - 20 years', '15 - 20 years', '15 - 20 years', '15 - 20 years', '15 - 20 years', '15 - 20 years', '15 - 20 years', '15 - 20 years', '15 - 20 years', '15 - 20 years', '15 - 20 years', '15 - 20 years', '15 - 20 years', '15 - 20 years', '15 - 20 years', '15 - 20 years', '15 - 20 years', '15 - 20 years', '15 - 20 years', '15 - 20 years', '15 - 20 years', '15 - 20 years', '15 - 20 years', '15 - 20 years', '15 - 20 years', '15 - 20 years', '15 - 20 years', '15 - 20 years', '15 - 20 years', '15 - 20 years', '15 - 20 years', '15 - 20 years', '15 - 20 years', '15 - 20 years', '15 - 20 years', '15 - 20 years', '15 - 20 years', '15 - 20 years', '15 - 20 years', '15 - 20 years', '15 - 20 years', '15 - 20 years', '5 - 10 years', '5 - 10 years', '5 - 10 years', '5 - 10 years', '5 - 10 years', '5 - 10 years', '5 - 10 years', '5 - 10 years', '5 - 10 years', '5 - 10 years', '5 - 10 years', '5 - 10 years', '5 - 10 years', '5 - 10 years', '5 - 10 years', '5 - 10 years', '5 - 10 years', '5 - 10 years', '5 - 10 years', '5 - 10 years', '5 - 10 years', '5 - 10 years', '5 - 10 years', '5 - 10 years', '5 - 10 years', '5 - 10 years', '5 - 10 years', '5 - 10 years', '5 - 10 years', '5 - 10 years', '5 - 10 years', '5 - 10 years', '5 - 10 years', '5 - 10 years', '5 - 10 years', '5 - 10 years', '5 - 10 years', '5 - 10 years', '5 - 10 years', '5 - 10 years', '5 - 10 years', '5 - 10 years', '5 - 10 years', '5 - 10 years', '5 - 10 years', '5 - 10 years', '5 - 10 years', '5 - 10 years', '5 - 10 years', '5 - 10 years', '5 - 10 years', '5 - 10 years', '5 - 10 years', '5 - 10 years', '5 - 10 years', '5 - 10 years', '5 - 10 years', '5 - 10 years', '5 - 10 years', '5 - 10 years', '> 20 years', '> 20 years', '> 20 years', '> 20 years', '> 20 years', '> 20 years', '> 20 years', '> 20 years', '> 20 years', '> 20 years', '> 20 years', '> 20 years', '> 20 years', '> 20 years', '> 20 years', '> 20 years', '> 20 years', '> 20 years', '> 20 years', '> 20 years', '> 20 years', '> 20 years', '> 20 years', '> 20 years', '> 20 years', '> 20 years', '> 20 years', '> 20 years', '> 20 years', '> 20 years', '> 20 years', '> 20 years', '> 20 years', '> 20 years', '> 20 years', '> 20 years', '> 20 years', '> 20 years', '> 20 years', '> 20 years', '> 20 years', '> 20 years', '> 20 years', '> 20 years', '> 20 years', '> 20 years', '> 20 years', '> 20 years', '> 20 years', '> 20 years', '> 20 years', '> 20 years', '> 20 years', '> 20 years', '> 20 years', '> 20 years', '> 20 years', '> 20 years', '> 20 years', '> 20 years', '> 20 years', '> 20 years', '> 20 years', '> 20 years', '> 20 years', '> 20 years', '> 20 years', '> 20 years', '> 20 years', '> 20 years', '> 20 years', '> 20 years', '> 20 years', '> 20 years', '> 20 years', '> 20 years', '> 20 years', '> 20 years', '> 20 years', '> 20 years', '> 20 years', '> 20 years', '> 20 years', '> 20 years', '> 20 years', '> 20 years', '> 20 years', '> 20 years', '> 20 years', '> 20 years', '> 20 years', '> 20 years', '> 20 years', '> 20 years', '> 20 years', '> 20 years', '> 20 years', '> 20 years', '> 20 years', '> 20 years', '> 20 years', '> 20 years', '> 20 years']\n"
     ]
    }
   ],
   "source": [
    "import pandas as pd\n",
    "\n",
    "# Load the dataset\n",
    "file_path = \"C:/Users/Admin/Favorites/Documents/TECHNICAL PROGRAMMING II/settle2.csv\"\n",
    "data = pd.read_csv(file_path)\n",
    "\n",
    "# Print the column names to verify\n",
    "print(\"Column Names: \", data.columns)\n",
    "\n",
    "# Strip any leading/trailing whitespace from column names\n",
    "data.columns = data.columns.str.strip()\n",
    "\n",
    "# Check if the specific column exists\n",
    "column_name = 'age_of_is'\n",
    "if column_name in data.columns:\n",
    "    # Select the column to sort\n",
    "    column_to_sort = data[column_name]\n",
    "\n",
    "    # Insertion Sort algorithm\n",
    "\n",
    "    def insertion_sort(arr):\n",
    "        for i in range(1, len(arr)):\n",
    "            key = arr[i]\n",
    "            j = i - 1\n",
    "            while j >= 0 and key < arr[j]:\n",
    "                arr[j + 1] = arr[j]\n",
    "                j -= 1\n",
    "            arr[j + 1] = key\n",
    "        return arr\n",
    "\n",
    "    # Sort the column\n",
    "    sorted_column = insertion_sort(column_to_sort.tolist())\n",
    "    print(\"Sorted Column: \", sorted_column)\n",
    "else:\n",
    "    print(f\"Column '{column_name}' not found in the DataFrame.\")\n"
   ]
  },
  {
   "cell_type": "markdown",
   "id": "fa4d0bd1-5c11-4398-8178-812bd8e57706",
   "metadata": {},
   "source": [
    "\n",
    "insertion_sort is a function that sorts a list using the insertion sort algorithm.\n",
    "\n",
    "The algorithm works as follows:\n",
    "\n",
    "Iterate from the second element to the last element (i ranges from 1 to len(arr) - 1).\n",
    "\n",
    "Set the current element as key.\n",
    "\n",
    "Compare key with the elements before it. If key is smaller, shift the larger elements one position to the right.\n",
    "\n",
    "Insert key into its correct position.\n",
    "\n",
    "Repeat until the entire list is sorted.\n"
   ]
  },
  {
   "cell_type": "code",
   "execution_count": null,
   "id": "ee1377ef-1c7a-400c-999b-1ca26b44527f",
   "metadata": {},
   "outputs": [],
   "source": []
  }
 ],
 "metadata": {
  "kernelspec": {
   "display_name": "Python 3 (ipykernel)",
   "language": "python",
   "name": "python3"
  },
  "language_info": {
   "codemirror_mode": {
    "name": "ipython",
    "version": 3
   },
   "file_extension": ".py",
   "mimetype": "text/x-python",
   "name": "python",
   "nbconvert_exporter": "python",
   "pygments_lexer": "ipython3",
   "version": "3.12.3"
  }
 },
 "nbformat": 4,
 "nbformat_minor": 5
}
