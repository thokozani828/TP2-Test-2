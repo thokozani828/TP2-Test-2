{
 "cells": [
  {
   "cell_type": "markdown",
   "id": "b85df3e9-60c1-487d-afc8-d1cf6916c985",
   "metadata": {},
   "source": [
    "## Explanation of Time and Space Complexity of Linear Search\n",
    "Linear Search\n",
    "Time Complexity: \n",
    "- In the worst case, the linear search algorithm needs to check each element of the list once to find the target element, leading to a linear time complexity.\n",
    "#### Best Case:\n",
    "- if the target element is found at the first position.\n",
    "#### Average Case:\n",
    "- as on average, the target element will be somewhere in the middle of the list\n",
    "\n",
    "\n",
    "#### Efficiency in Terms of Big-O Notation\n",
    "- Simple to implement.\n",
    "- No need for the list to be sorted.\n",
    "- Works well with small datasets.\n",
    "\n",
    "\n",
    "#### Space Complexity: \n",
    "- It does not use any additional data structures that grow with the input size, hence the space complexity is constant.\n",
    "\n",
    "\n",
    "#### Efficiency in Terms of Big-O Notation\n",
    "- Linear search is efficient for small datasets and unsorted lists.\n",
    "- For larger datasets, it becomes inefficient due to its linear time complexity.\n",
    "- Suitable for scenarios where the list is unsorted and the overhead of sorting for binary search is not justified."
   ]
  },
  {
   "cell_type": "code",
   "execution_count": null,
   "id": "61142396-7c68-4919-af3b-0836ecb913c2",
   "metadata": {},
   "outputs": [],
   "source": []
  }
 ],
 "metadata": {
  "kernelspec": {
   "display_name": "Python 3 (ipykernel)",
   "language": "python",
   "name": "python3"
  },
  "language_info": {
   "codemirror_mode": {
    "name": "ipython",
    "version": 3
   },
   "file_extension": ".py",
   "mimetype": "text/x-python",
   "name": "python",
   "nbconvert_exporter": "python",
   "pygments_lexer": "ipython3",
   "version": "3.12.3"
  }
 },
 "nbformat": 4,
 "nbformat_minor": 5
}
