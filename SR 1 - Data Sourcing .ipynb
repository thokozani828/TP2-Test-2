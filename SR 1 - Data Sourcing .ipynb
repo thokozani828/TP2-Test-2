{
 "cells": [
  {
   "attachments": {},
   "cell_type": "markdown",
   "id": "2295d9ec-54cf-4df8-8173-981d90780906",
   "metadata": {},
   "source": [
    "Analysis of Informal Settlements Using Available Dataset\n",
    "\n",
    "Dataset Source:\n",
    "The dataset titled \"Population living in slums (% of urban population)\", and this datase is obtained it on the websites that is called \"https://data.worldbank.org/indicator/EN.POP.SLUM.UR.ZS\", The name of the soucrce it [The world Bank]and it is know for relayable dataset.\n",
    "\n",
    "Data Completeness:\n",
    "This dataset provides extensive data on the percentage of the urban population living in slums in south Africa. It allows for a broad analysis of trends and patterns related to informal settlements. The dataset covers multiple years, providing a temporal aspect to the analysis which is crucial for understanding changes over time.\n",
    "\n",
    "Relevance:\n",
    "This dataset is highly relevant to the theme of informal settlements as it directly measures the proportion of the population living in slum conditions. This is a critical indicator of informal settlements. This dataset it for south Africa, making it possible to perform comparative analysis and identify regional pettens.\n",
    "\n",
    "\n",
    "Credibility:\n",
    "The World Bank is a reputable international organization known for its strict data collection and validation processes. Data from the World Bank is widely used in research and policy-making. The credibility of the source ensures that the data is reliable and suitable for serious analysis.\n",
    "\n",
    "Relevant Columns:\n",
    "Two columns in our analysis that are relevent:\n",
    "Country Name: This colomn identify the country.\n",
    "Population living in slums (% of urban population): This colomn provide the percentage of urban population living in slums\n"
   ]
  },
  {
   "cell_type": "code",
   "execution_count": 14,
   "id": "4e805c4e-f1dc-426a-93b8-f9b24a24c2a2",
   "metadata": {},
   "outputs": [
    {
     "name": "stdout",
     "output_type": "stream",
     "text": [
      "                         Aruba  ABW  \\\n",
      "0  Africa Eastern and Southern  AFE   \n",
      "1                  Afghanistan  AFG   \n",
      "2   Africa Western and Central  AFW   \n",
      "3                       Angola  AGO   \n",
      "4                      Albania  ALB   \n",
      "\n",
      "  Population living in slums (% of urban population)  EN.POP.SLUM.UR.ZS  \\\n",
      "0  Population living in slums (% of urban populat...  EN.POP.SLUM.UR.ZS   \n",
      "1  Population living in slums (% of urban populat...  EN.POP.SLUM.UR.ZS   \n",
      "2  Population living in slums (% of urban populat...  EN.POP.SLUM.UR.ZS   \n",
      "3  Population living in slums (% of urban populat...  EN.POP.SLUM.UR.ZS   \n",
      "4  Population living in slums (% of urban populat...  EN.POP.SLUM.UR.ZS   \n",
      "\n",
      "   Unnamed: 4  Unnamed: 5  Unnamed: 6  Unnamed: 7  Unnamed: 8  Unnamed: 9  \\\n",
      "0         NaN         NaN         NaN         NaN         NaN         NaN   \n",
      "1         NaN         NaN         NaN         NaN         NaN         NaN   \n",
      "2         NaN         NaN         NaN         NaN         NaN         NaN   \n",
      "3         NaN         NaN         NaN         NaN         NaN         NaN   \n",
      "4         NaN         NaN         NaN         NaN         NaN         NaN   \n",
      "\n",
      "   ...  Unnamed: 59  Unnamed: 60  Unnamed: 61  Unnamed: 62  Unnamed: 63  \\\n",
      "0  ...          NaN    55.348711          NaN    54.672940          NaN   \n",
      "1  ...          NaN    72.128630          NaN    73.300000          NaN   \n",
      "2  ...          NaN    51.120997          NaN    48.698234          NaN   \n",
      "3  ...          NaN    56.449530          NaN    62.581050          NaN   \n",
      "4  ...          NaN     7.800000          NaN     5.300000          NaN   \n",
      "\n",
      "   Unnamed: 64  Unnamed: 65  Unnamed: 66  Unnamed: 67  Unnamed: 68  \n",
      "0    54.386351          NaN          NaN          NaN          NaN  \n",
      "1    73.300000          NaN          NaN          NaN          NaN  \n",
      "2    46.257180          NaN          NaN          NaN          NaN  \n",
      "3    62.600000          NaN          NaN          NaN          NaN  \n",
      "4     2.800000          NaN          NaN          NaN          NaN  \n",
      "\n",
      "[5 rows x 69 columns]\n"
     ]
    }
   ],
   "source": [
    "import pandas as pd\n",
    "\n",
    "# Loading the dataset from a CSV file\n",
    "file_path = (\"C:/Users/Admin/Favorites/Documents/TECHNICAL PROGRAMMING II/API_EN.POP.SLUM.UR.ZS_DS2_en_csv_v2_289192/API_EN.POP.SLUM.UR.ZS_DS2_en_csv_v2_289192.csv\")\n",
    "\n",
    "# Skip initial rows if they contain metadata or comments\n",
    "data = pd.read_csv(file_path, skiprows=5)\n",
    "\n",
    "# Display the first few rows of the dataset\n",
    "print(data.head())\n"
   ]
  },
  {
   "cell_type": "code",
   "execution_count": null,
   "id": "9957a768-f3bf-4e63-a317-ea363d456b4f",
   "metadata": {},
   "outputs": [],
   "source": []
  }
 ],
 "metadata": {
  "kernelspec": {
   "display_name": "Python 3 (ipykernel)",
   "language": "python",
   "name": "python3"
  },
  "language_info": {
   "codemirror_mode": {
    "name": "ipython",
    "version": 3
   },
   "file_extension": ".py",
   "mimetype": "text/x-python",
   "name": "python",
   "nbconvert_exporter": "python",
   "pygments_lexer": "ipython3",
   "version": "3.12.3"
  }
 },
 "nbformat": 4,
 "nbformat_minor": 5
}
