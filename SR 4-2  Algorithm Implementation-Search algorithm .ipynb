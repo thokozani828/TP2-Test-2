{
 "cells": [
  {
   "cell_type": "markdown",
   "id": "5ef271d4-0f9d-46fd-b6d7-eacf89ad6890",
   "metadata": {},
   "source": [
    "Linear Search:\n",
    "Linear search is a simple algorithm that checks each element in a list sequentially until the target element is found or the end of the list is reached.\n",
    "\n",
    "Binary Search:\n",
    "Binary search is a more efficient algorithm that works on sorted lists. It repeatedly divides the search interval in half, comparing the target value to the middle element of the list.\n",
    "\n",
    "Binary search is significantly faster than linear search, especially for large lists."
   ]
  },
  {
   "cell_type": "code",
   "execution_count": 9,
   "id": "e4bad666-efde-499a-8843-ae56acf99a12",
   "metadata": {},
   "outputs": [
    {
     "name": "stdout",
     "output_type": "stream",
     "text": [
      "Column Names:  Index(['Country Name', 'Country Code', 'Indicator Name', 'Indicator Code',\n",
      "       '1960', '1961', '1962', '1963', '1964', '1965', '1966', '1967', '1968',\n",
      "       '1969', '1970', '1971', '1972', '1973', '1974', '1975', '1976', '1977',\n",
      "       '1978', '1979', '1980', '1981', '1982', '1983', '1984', '1985', '1986',\n",
      "       '1987', '1988', '1989', '1990', '1991', '1992', '1993', '1994', '1995',\n",
      "       '1996', '1997', '1998', '1999', '2000', '2001', '2002', '2003', '2004',\n",
      "       '2005', '2006', '2007', '2008', '2009', '2010', '2011', '2012', '2013',\n",
      "       '2014', '2015', '2016', '2017', '2018', '2019', '2020', '2021', '2022',\n",
      "       '2023', 'Unnamed: 68'],\n",
      "      dtype='object')\n",
      "Linear Search Result: 251\n",
      "Binary Search Result: 251\n"
     ]
    }
   ],
   "source": [
    "import pandas as pd \n",
    "\n",
    "#load dataset\n",
    "file_path = (\"C:/Users/Admin/Favorites/Documents/TECHNICAL PROGRAMMING II/API_EN.POP.SLUM.UR.ZS_DS2_en_csv_v2_289192/API_EN.POP.SLUM.UR.ZS_DS2_en_csv_v2_289192.csv\")\n",
    "data = pd.read_csv(file_path, skiprows=4)\n",
    "\n",
    "# Print column names\n",
    "print(\"Column Names: \", data.columns)\n",
    "\n",
    "# Select column to search\n",
    "column_name = 'Country Code'\n",
    "column_data = data[column_name].dropna().tolist()\n",
    "\n",
    "# Linear Search Algorithm\n",
    "def linear_search(arr, target):\n",
    "    for i in range(len(arr)):\n",
    "        if arr[i] == target:\n",
    "            return i\n",
    "    return -1\n",
    "\n",
    "# Binary Search Algorithm\n",
    "def binary_search(arr, target):\n",
    "    low = 0\n",
    "    high = len(arr) - 1\n",
    "    while low <= high:\n",
    "        mid = (low + high) // 2\n",
    "        if arr[mid] == target:\n",
    "            return mid\n",
    "        elif arr[mid] < target:\n",
    "            low = mid + 1\n",
    "        else:\n",
    "            high = mid - 1\n",
    "    return -1\n",
    "\n",
    "# Sort the data for binary search\n",
    "sorted_column_data = sorted(column_data)\n",
    "\n",
    "# Define the target value\n",
    "target_value = 'USA'\n",
    "\n",
    "# Perform Linear Search\n",
    "linear_search_result = linear_search(column_data, target_value)\n",
    "print(f'Linear Search Result: {linear_search_result}')\n",
    "\n",
    "# Perform Binary Search\n",
    "binary_search_result = binary_search(sorted_column_data, target_value)\n",
    "print(f'Binary Search Result: {binary_search_result}')\n"
   ]
  },
  {
   "cell_type": "code",
   "execution_count": null,
   "id": "3f3d117e-743d-427e-9e94-f65341cc6023",
   "metadata": {},
   "outputs": [],
   "source": []
  }
 ],
 "metadata": {
  "kernelspec": {
   "display_name": "Python 3 (ipykernel)",
   "language": "python",
   "name": "python3"
  },
  "language_info": {
   "codemirror_mode": {
    "name": "ipython",
    "version": 3
   },
   "file_extension": ".py",
   "mimetype": "text/x-python",
   "name": "python",
   "nbconvert_exporter": "python",
   "pygments_lexer": "ipython3",
   "version": "3.12.3"
  }
 },
 "nbformat": 4,
 "nbformat_minor": 5
}
