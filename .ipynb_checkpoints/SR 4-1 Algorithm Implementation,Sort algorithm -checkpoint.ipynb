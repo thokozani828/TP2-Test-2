{
 "cells": [
  {
   "cell_type": "code",
   "execution_count": 11,
   "id": "7fb68d03-537a-4bfa-9e5b-a6615c84c556",
   "metadata": {},
   "outputs": [
    {
     "name": "stdout",
     "output_type": "stream",
     "text": [
      "Column Names:  Index(['Country Name', 'Country Code', 'Indicator Name', 'Indicator Code',\n",
      "       '1960', '1961', '1962', '1963', '1964', '1965', '1966', '1967', '1968',\n",
      "       '1969', '1970', '1971', '1972', '1973', '1974', '1975', '1976', '1977',\n",
      "       '1978', '1979', '1980', '1981', '1982', '1983', '1984', '1985', '1986',\n",
      "       '1987', '1988', '1989', '1990', '1991', '1992', '1993', '1994', '1995',\n",
      "       '1996', '1997', '1998', '1999', '2000', '2001', '2002', '2003', '2004',\n",
      "       '2005', '2006', '2007', '2008', '2009', '2010', '2011', '2012', '2013',\n",
      "       '2014', '2015', '2016', '2017', '2018', '2019', '2020', '2021', '2022',\n",
      "       '2023', 'Unnamed: 68'],\n",
      "      dtype='object')\n",
      "                  Country Name Country Code  \\\n",
      "0                        Aruba          ABW   \n",
      "1  Africa Eastern and Southern          AFE   \n",
      "2                  Afghanistan          AFG   \n",
      "3   Africa Western and Central          AFW   \n",
      "4                       Angola          AGO   \n",
      "\n",
      "                                      Indicator Name     Indicator Code  1960  \\\n",
      "0  Population living in slums (% of urban populat...  EN.POP.SLUM.UR.ZS   NaN   \n",
      "1  Population living in slums (% of urban populat...  EN.POP.SLUM.UR.ZS   NaN   \n",
      "2  Population living in slums (% of urban populat...  EN.POP.SLUM.UR.ZS   NaN   \n",
      "3  Population living in slums (% of urban populat...  EN.POP.SLUM.UR.ZS   NaN   \n",
      "4  Population living in slums (% of urban populat...  EN.POP.SLUM.UR.ZS   NaN   \n",
      "\n",
      "   1961  1962  1963  1964  1965  ...  2015       2016  2017       2018  2019  \\\n",
      "0   NaN   NaN   NaN   NaN   NaN  ...   NaN        NaN   NaN        NaN   NaN   \n",
      "1   NaN   NaN   NaN   NaN   NaN  ...   NaN  55.348711   NaN  54.672940   NaN   \n",
      "2   NaN   NaN   NaN   NaN   NaN  ...   NaN  72.128630   NaN  73.300000   NaN   \n",
      "3   NaN   NaN   NaN   NaN   NaN  ...   NaN  51.120997   NaN  48.698234   NaN   \n",
      "4   NaN   NaN   NaN   NaN   NaN  ...   NaN  56.449530   NaN  62.581050   NaN   \n",
      "\n",
      "        2020  2021  2022  2023  Unnamed: 68  \n",
      "0        NaN   NaN   NaN   NaN          NaN  \n",
      "1  54.386351   NaN   NaN   NaN          NaN  \n",
      "2  73.300000   NaN   NaN   NaN          NaN  \n",
      "3  46.257180   NaN   NaN   NaN          NaN  \n",
      "4  62.600000   NaN   NaN   NaN          NaN  \n",
      "\n",
      "[5 rows x 69 columns]\n",
      "Is 'Urban population living in slums (% of urban population)' in columns? False\n",
      "Column 'Urban population living in slums (% of urban population)' not found in the dataset.\n"
     ]
    }
   ],
   "source": [
    "#importing the package\n",
    "import pandas as pd\n",
    "\n",
    "# Load the dataset\n",
    "file_path = \"C:/Users/Admin/Favorites/Documents/TECHNICAL PROGRAMMING II/API_EN.POP.SLUM.UR.ZS_DS2_en_csv_v2_289192/API_EN.POP.SLUM.UR.ZS_DS2_en_csv_v2_289192.csv\"\n",
    "data = pd.read_csv(file_path, skiprows=4)\n",
    "\n",
    "print(\"\\nFirst 5 Rows of the Dataset:\\n\", data.head())\n",
    "print(\"\\nColumn Names: \", data.columns)\n",
    "\n",
    "# Select the column to sort\n",
    "column_to_sort = data['Population living in slums (% of urban population)']\n",
    "\n",
    "# Insertion Sort algorithm\n",
    "def insertion_sort(arr):\n",
    "    for i in range(1, len(arr)):\n",
    "        key = arr[i]\n",
    "        j = i - 1\n",
    "        while j >= 0 and key < arr[j]:\n",
    "            arr[j + 1] = arr[j]\n",
    "            j -= 1\n",
    "        arr[j + 1] = key\n",
    "\n",
    "# Convert the column to a list for sorting\n",
    "column_list = column_to_sort.tolist()\n",
    "\n",
    "# Sort the column using Insertion Sort\n",
    "insertion_sort(column_list)\n",
    "\n",
    "# Print the sorted column\n",
    "print(\"Sorted Urban population living in slums (% of urban population) column in ascending order:\")\n",
    "print(column_list)"
   ]
  },
  {
   "cell_type": "code",
   "execution_count": null,
   "id": "e3a89b60-44e3-4736-9679-0c27cfca1833",
   "metadata": {},
   "outputs": [],
   "source": []
  },
  {
   "cell_type": "code",
   "execution_count": null,
   "id": "56a4f69b-cb0d-4d58-a60b-3b0db3f992a2",
   "metadata": {},
   "outputs": [],
   "source": []
  }
 ],
 "metadata": {
  "kernelspec": {
   "display_name": "Python 3 (ipykernel)",
   "language": "python",
   "name": "python3"
  },
  "language_info": {
   "codemirror_mode": {
    "name": "ipython",
    "version": 3
   },
   "file_extension": ".py",
   "mimetype": "text/x-python",
   "name": "python",
   "nbconvert_exporter": "python",
   "pygments_lexer": "ipython3",
   "version": "3.12.3"
  }
 },
 "nbformat": 4,
 "nbformat_minor": 5
}
