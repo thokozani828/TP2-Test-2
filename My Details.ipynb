{
 "cells": [
  {
   "cell_type": "markdown",
   "id": "2032344a-fe80-4463-9ed6-88308950789b",
   "metadata": {},
   "source": [
    "22208998 T Ngwabe\n"
   ]
  },
  {
   "cell_type": "code",
   "execution_count": null,
   "id": "6e09000d-140c-4bae-9321-ad22c075c200",
   "metadata": {},
   "outputs": [],
   "source": []
  }
 ],
 "metadata": {
  "kernelspec": {
   "display_name": "Python 3 (ipykernel)",
   "language": "python",
   "name": "python3"
  },
  "language_info": {
   "codemirror_mode": {
    "name": "ipython",
    "version": 3
   },
   "file_extension": ".py",
   "mimetype": "text/x-python",
   "name": "python",
   "nbconvert_exporter": "python",
   "pygments_lexer": "ipython3",
   "version": "3.12.3"
  }
 },
 "nbformat": 4,
 "nbformat_minor": 5
}
